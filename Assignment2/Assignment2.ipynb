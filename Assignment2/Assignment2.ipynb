{
 "cells": [
  {
   "cell_type": "code",
   "execution_count": 2,
   "metadata": {},
   "outputs": [],
   "source": [
    "import torch\n",
    "import torch.nn as nn\n",
    "import numpy as np\n",
    "import matplotlib.pyplot as plt\n",
    "import torch.nn.functional as F\n",
    "from torchvision.datasets import DatasetFolder\n",
    "import cv2\n",
    "device = 'cuda' if torch.cuda.is_available() else 'cpu'"
   ]
  },
  {
   "cell_type": "code",
   "execution_count": 78,
   "metadata": {},
   "outputs": [
    {
     "name": "stdout",
     "output_type": "stream",
     "text": [
      "[-0.9708298]\n"
     ]
    }
   ],
   "source": [
    "from torchvision import transforms\n",
    "import PIL.Image\n",
    "\n",
    "from sklearn.preprocessing import StandardScaler\n",
    "\n",
    "\n",
    "labels = {0: \"n02089078-black-and-tan_coonhound\"\n",
    "          ,1: \"n02091831-Saluki\"\n",
    "          ,2:\"n02092002-Scottish_deerhound\"\n",
    "          ,3:\"n02095314-wire-haired_fox_terrier\"}\n",
    "\n",
    "def load_image(img_path:str):\n",
    "    np_img = cv2.imread(img_path,cv2.IMREAD_COLOR)\n",
    "    np_img = cv2.cvtColor(np_img,cv2.COLOR_BGR2GRAY)\n",
    "    data = cv2.calcHist([np_img],[0], None, [256], [0, 256])\n",
    "    return data\n",
    "dset = DatasetFolder(root=r'../DataSet/ProcessedDatasets', loader = load_image,extensions = ('.jpg',))\n",
    "\n",
    "data = StandardScaler().fit_transform(dset[0][:][0]) \n",
    "\n"
   ]
  },
  {
   "cell_type": "code",
   "execution_count": null,
   "metadata": {},
   "outputs": [],
   "source": [
    "import torch.utils.data\n",
    "from torch.utils.data import Sampler\n",
    "\n",
    "train_loader = "
   ]
  }
 ],
 "metadata": {
  "kernelspec": {
   "display_name": "Python 3",
   "language": "python",
   "name": "python3"
  },
  "language_info": {
   "codemirror_mode": {
    "name": "ipython",
    "version": 3
   },
   "file_extension": ".py",
   "mimetype": "text/x-python",
   "name": "python",
   "nbconvert_exporter": "python",
   "pygments_lexer": "ipython3",
   "version": "3.11.6"
  }
 },
 "nbformat": 4,
 "nbformat_minor": 2
}
