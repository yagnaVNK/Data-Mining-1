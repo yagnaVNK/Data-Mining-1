{
  "cells": [
    {
      "cell_type": "markdown",
      "metadata": {
        "id": "view-in-github",
        "colab_type": "text"
      },
      "source": [
        "<a href=\"https://colab.research.google.com/github/yagnaVNK/Data-Mining-1/blob/main/Assignment1/Assignment1.ipynb\" target=\"_parent\"><img src=\"https://colab.research.google.com/assets/colab-badge.svg\" alt=\"Open In Colab\"/></a>"
      ]
    },
    {
      "cell_type": "code",
      "execution_count": 2,
      "metadata": {
        "id": "b2AyQWkH2aig",
        "outputId": "8eee8de8-0139-4794-f13e-bf75404495dc",
        "colab": {
          "base_uri": "https://localhost:8080/",
          "height": 140
        }
      },
      "outputs": [
        {
          "output_type": "error",
          "ename": "SyntaxError",
          "evalue": "ignored",
          "traceback": [
            "\u001b[0;36m  File \u001b[0;32m\"<ipython-input-2-290fba32caab>\"\u001b[0;36m, line \u001b[0;32m8\u001b[0m\n\u001b[0;31m    bndbox = o.find('bndbox’)\u001b[0m\n\u001b[0m                    ^\u001b[0m\n\u001b[0;31mSyntaxError\u001b[0m\u001b[0;31m:\u001b[0m unterminated string literal (detected at line 8)\n"
          ]
        }
      ],
      "source": [
        "def get_bounding_boxes(annot):\n",
        "  xml = annot\n",
        "  tree = ET.parse(xml)\n",
        "  root = tree.getroot()\n",
        "  objects = root.findall('object')\n",
        "  bbox = []\n",
        "  for o in objects:\n",
        "    bndbox = o.find('bndbox’)\n",
        "    xmin = int(bndbox.find('xmin').text)\n",
        "    ymin = int(bndbox.find('ymin').text)\n",
        "    xmax = int(bndbox.find('xmax').text)\n",
        "    ymax = int(bndbox.find('ymax').text)\n",
        "    bbox.append((xmin,ymin,xmax,ymax))\n",
        "  return bbox"
      ]
    },
    {
      "cell_type": "code",
      "execution_count": null,
      "metadata": {
        "id": "K7hCj0452aij"
      },
      "outputs": [],
      "source": []
    }
  ],
  "metadata": {
    "kernelspec": {
      "display_name": "Python 3",
      "language": "python",
      "name": "python3"
    },
    "language_info": {
      "codemirror_mode": {
        "name": "ipython",
        "version": 3
      },
      "file_extension": ".py",
      "mimetype": "text/x-python",
      "name": "python",
      "nbconvert_exporter": "python",
      "pygments_lexer": "ipython3",
      "version": "3.11.5"
    },
    "orig_nbformat": 4,
    "colab": {
      "provenance": [],
      "include_colab_link": true
    }
  },
  "nbformat": 4,
  "nbformat_minor": 0
}