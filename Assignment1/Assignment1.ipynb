{
  "cells": [
    {
      "cell_type": "markdown",
      "metadata": {
        "colab_type": "text",
        "id": "view-in-github"
      },
      "source": [
        "<a href=\"https://colab.research.google.com/github/yagnaVNK/Data-Mining-1/blob/main/Assignment1/Assignment1.ipynb\" target=\"_parent\"><img src=\"https://colab.research.google.com/assets/colab-badge.svg\" alt=\"Open In Colab\"/></a>"
      ]
    },
    {
      "cell_type": "code",
      "execution_count": 1,
      "metadata": {
        "colab": {
          "base_uri": "https://localhost:8080/",
          "height": 140
        },
        "id": "b2AyQWkH2aig",
        "outputId": "8eee8de8-0139-4794-f13e-bf75404495dc"
      },
      "outputs": [],
      "source": [
        "def get_bounding_boxes(annot):\n",
        "  xml = annot\n",
        "  tree = ET.parse(xml)\n",
        "  root = tree.getroot()\n",
        "  objects = root.findall('object')\n",
        "  bbox = []\n",
        "  for o in objects:\n",
        "    bndbox = o.find('bndbox')\n",
        "    xmin = int(bndbox.find('xmin').text)\n",
        "    ymin = int(bndbox.find('ymin').text)\n",
        "    xmax = int(bndbox.find('xmax').text)\n",
        "    ymax = int(bndbox.find('ymax').text)\n",
        "    bbox.append((xmin,ymin,xmax,ymax))\n",
        "  return bbox"
      ]
    },
    {
      "cell_type": "code",
      "execution_count": 11,
      "metadata": {
        "id": "K7hCj0452aij"
      },
      "outputs": [],
      "source": [
        "import cv2 as cv\n",
        "import os\n",
        "\n",
        "DATA_DIR = \"\\\\\".join(os.getcwd().split(\"\\\\\")[:-1]) + \"\\\\\" + \"DataSet\"\n",
        "ANNOTATIONS_DIR = DATA_DIR + \"\\\\\" + \"Annotations\"\n",
        "\n",
        "path = DATA_DIR + \"\\\\\" + \"n02091831-Saluki\" + \"\\\\\" + \"n02091831_38.jpg\"\n",
        "\n",
        "img = cv.imread(cv.samples.findFile(path))"
      ]
    },
    {
      "cell_type": "code",
      "execution_count": 14,
      "metadata": {},
      "outputs": [
        {
          "ename": "",
          "evalue": "",
          "output_type": "error",
          "traceback": [
            "\u001b[1;31mThe Kernel crashed while executing code in the the current cell or a previous cell. Please review the code in the cell(s) to identify a possible cause of the failure. Click <a href='https://aka.ms/vscodeJupyterKernelCrash'>here</a> for more info. View Jupyter <a href='command:jupyter.viewOutput'>log</a> for further details."
          ]
        }
      ],
      "source": [
        "cv.imshow(\"window\",img)"
      ]
    },
    {
      "cell_type": "code",
      "execution_count": null,
      "metadata": {},
      "outputs": [],
      "source": []
    }
  ],
  "metadata": {
    "colab": {
      "include_colab_link": true,
      "provenance": []
    },
    "kernelspec": {
      "display_name": "Python 3",
      "language": "python",
      "name": "python3"
    },
    "language_info": {
      "codemirror_mode": {
        "name": "ipython",
        "version": 3
      },
      "file_extension": ".py",
      "mimetype": "text/x-python",
      "name": "python",
      "nbconvert_exporter": "python",
      "pygments_lexer": "ipython3",
      "version": "3.11.1"
    },
    "orig_nbformat": 4
  },
  "nbformat": 4,
  "nbformat_minor": 0
}
